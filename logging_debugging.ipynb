{
 "cells": [
  {
   "cell_type": "code",
   "execution_count": 1,
   "id": "c56f5e4d-1c15-48c5-9f76-ce9bcd7ed2b7",
   "metadata": {},
   "outputs": [
    {
     "name": "stdout",
     "output_type": "stream",
     "text": [
      "The current no is 0\n",
      "The current no is 1\n",
      "The current no is 2\n",
      "The current no is 3\n",
      "The current no is 4\n",
      "The current no is 5\n",
      "The current no is 6\n",
      "The current no is 7\n",
      "The current no is 8\n",
      "The current no is 9\n"
     ]
    }
   ],
   "source": [
    "for i in range(10):\n",
    "    print(\"The current no is\", i)"
   ]
  },
  {
   "cell_type": "code",
   "execution_count": 3,
   "id": "fb70c73e-965d-4256-850a-a7233cb0ecb1",
   "metadata": {},
   "outputs": [],
   "source": [
    "#logging>> keep track of \n",
    "#logging module keep track of events in a software run\n",
    "\n",
    "import logging\n",
    "\n",
    "#logging supports different levels of logging which helps to catrgorize messages based on their severity"
   ]
  },
  {
   "cell_type": "code",
   "execution_count": 4,
   "id": "4eae5e03-7b6e-49fa-87d5-5f7d10f9867e",
   "metadata": {},
   "outputs": [],
   "source": [
    "logging.basicConfig(filename = \"test.log\", level = logging.INFO)"
   ]
  },
  {
   "cell_type": "code",
   "execution_count": 5,
   "id": "b789678d-9c01-4578-97c7-9a2caaa24e81",
   "metadata": {},
   "outputs": [],
   "source": [
    "logging.info(\"This is my normal information about the software run\")\n",
    "logging.error(\"This is the error msg\")"
   ]
  },
  {
   "cell_type": "code",
   "execution_count": 6,
   "id": "452cae06-aef6-40a8-958d-749255a9de15",
   "metadata": {},
   "outputs": [],
   "source": [
    "logging.warning(\"This is my warning\")"
   ]
  },
  {
   "cell_type": "code",
   "execution_count": 7,
   "id": "9f036742-5b6e-4a25-b238-ebc8fc6f248f",
   "metadata": {},
   "outputs": [],
   "source": [
    "logging.debug(\"This is my msg for debugging\")"
   ]
  },
  {
   "cell_type": "code",
   "execution_count": 8,
   "id": "e7a389de-14e8-48e5-ae7a-d4b77f621f7f",
   "metadata": {},
   "outputs": [],
   "source": [
    "logging.critical(\"This is critical msg\")"
   ]
  },
  {
   "cell_type": "code",
   "execution_count": 9,
   "id": "e38ffe85-e412-4b41-98cf-cd3e21fc63af",
   "metadata": {},
   "outputs": [],
   "source": [
    "logging.shutdown()"
   ]
  },
  {
   "cell_type": "code",
   "execution_count": null,
   "id": "6447a4f1-0afd-477e-8904-59bd287e3c2c",
   "metadata": {},
   "outputs": [],
   "source": [
    "1. DEBUG >>  lowest level, debugging msg and variables\n",
    "2. INFO >> the things are working as expected \n",
    "3. WARNING >> potential issues\n",
    "4. ERROR >> serious problem\n",
    "5. CRITICAL >> termination of progaram"
   ]
  },
  {
   "cell_type": "code",
   "execution_count": 1,
   "id": "33d7aa03-26eb-4236-a2a4-9403f81d2180",
   "metadata": {},
   "outputs": [],
   "source": [
    "import logging\n",
    "logging.basicConfig(filename = \"test_new.log\" , level = logging.DEBUG ,format = '%(asctime)s %(message)s'  )"
   ]
  },
  {
   "cell_type": "code",
   "execution_count": 2,
   "id": "9a9ec43c-5a0d-4cae-835d-1a3b8a471c6a",
   "metadata": {},
   "outputs": [],
   "source": [
    "logging.debug(\"This msg is for debugging\")"
   ]
  },
  {
   "cell_type": "code",
   "execution_count": 3,
   "id": "6c074341-8155-4167-b368-0d70225b75ad",
   "metadata": {},
   "outputs": [],
   "source": [
    "logging.info(\"This is my info msg\")"
   ]
  },
  {
   "cell_type": "code",
   "execution_count": 4,
   "id": "8bc54392-d405-441f-bc05-5bd45620be82",
   "metadata": {},
   "outputs": [],
   "source": [
    "logging.warning(\"This is my warning msg\")"
   ]
  },
  {
   "cell_type": "code",
   "execution_count": 5,
   "id": "6897001f-eee0-441a-a7d1-025beead6487",
   "metadata": {},
   "outputs": [],
   "source": [
    "logging.shutdown()"
   ]
  },
  {
   "cell_type": "code",
   "execution_count": 1,
   "id": "fdec3a66-136c-4da2-ac48-909e69630522",
   "metadata": {},
   "outputs": [],
   "source": [
    "import logging\n",
    "logging.basicConfig(filename = \"test_new1.log\" , level = logging.DEBUG ,format = '%(asctime)s %(levelname)s %(message)s'  )"
   ]
  },
  {
   "cell_type": "code",
   "execution_count": 2,
   "id": "bfe5ea52-b34b-40c3-b9e3-2f4628e80825",
   "metadata": {},
   "outputs": [],
   "source": [
    "logging.debug(\"debugging message\")"
   ]
  },
  {
   "cell_type": "code",
   "execution_count": 3,
   "id": "7cd0918f-f1b8-45f5-8296-558d593297c0",
   "metadata": {},
   "outputs": [],
   "source": [
    "logging.info(\"info message\")"
   ]
  },
  {
   "cell_type": "code",
   "execution_count": 4,
   "id": "096ec5c4-a3d1-4d31-a58d-e268889ad2a0",
   "metadata": {},
   "outputs": [],
   "source": [
    "logging.shutdown()"
   ]
  },
  {
   "cell_type": "code",
   "execution_count": 1,
   "id": "31c14948-1c42-4d35-b6dc-aa01750e0644",
   "metadata": {},
   "outputs": [],
   "source": [
    "import logging\n",
    "logging.basicConfig(filename = \"program.log\" , level = logging.DEBUG ,format = '%(asctime)s %(levelname)s %(message)s'  )"
   ]
  },
  {
   "cell_type": "code",
   "execution_count": 2,
   "id": "326bc595-ba7a-40dd-967f-acbad0053d29",
   "metadata": {},
   "outputs": [],
   "source": [
    "l = [1, \"hello\", [2, \"world\"], 3, [\"python\", 4]]\n",
    "\n",
    "#write a prog to separate the integer and string in two list separfately"
   ]
  },
  {
   "cell_type": "code",
   "execution_count": 4,
   "id": "d3872c65-f2cb-4d18-a5e9-eea073954c32",
   "metadata": {},
   "outputs": [],
   "source": [
    "l1_int = []\n",
    "l2_str = []\n",
    "\n",
    "for i in l:\n",
    "    logging.info(f\"processing each element {i}\")\n",
    "    \n",
    "    if type(i) == list:\n",
    "        for j in i:\n",
    "            logging.info(f\"processing sublist element: {j}\")\n",
    "            if type(j) == int:\n",
    "                l1_int.append(j)\n",
    "    elif type(i) == int:\n",
    "        l1_int.append(i)\n",
    "    else:\n",
    "        l2_str.append(i)\n",
    "logging.info(f\"The final result is: {l1_int}, {l2_str}\")\n",
    "logging.shutdown()"
   ]
  },
  {
   "cell_type": "code",
   "execution_count": null,
   "id": "712f5801-24e6-4a70-9b60-2bd4699665ee",
   "metadata": {},
   "outputs": [],
   "source": []
  }
 ],
 "metadata": {
  "kernelspec": {
   "display_name": "Python 3 (ipykernel)",
   "language": "python",
   "name": "python3"
  },
  "language_info": {
   "codemirror_mode": {
    "name": "ipython",
    "version": 3
   },
   "file_extension": ".py",
   "mimetype": "text/x-python",
   "name": "python",
   "nbconvert_exporter": "python",
   "pygments_lexer": "ipython3",
   "version": "3.10.8"
  }
 },
 "nbformat": 4,
 "nbformat_minor": 5
}
