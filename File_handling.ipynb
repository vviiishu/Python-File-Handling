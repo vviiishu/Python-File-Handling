{
 "cells": [
  {
   "cell_type": "code",
   "execution_count": 18,
   "id": "dc377351-6ee6-45af-b19f-6ebea3d96bed",
   "metadata": {},
   "outputs": [],
   "source": [
    "#r>> read mode\\\n",
    "#w >> write mode\n",
    "#a >> append mode\n",
    "#r+>> both reading and writing\n",
    "\n",
    "file = open(\"file.txt\", \"w\")"
   ]
  },
  {
   "cell_type": "code",
   "execution_count": 19,
   "id": "06ee6c52-e985-421c-8a68-5ff4128a1a4f",
   "metadata": {},
   "outputs": [
    {
     "data": {
      "text/plain": [
       "28"
      ]
     },
     "execution_count": 19,
     "metadata": {},
     "output_type": "execute_result"
    }
   ],
   "source": [
    "file.write(\"Hello, this is my first line\") #number below is no of bytes you have written"
   ]
  },
  {
   "cell_type": "code",
   "execution_count": 20,
   "id": "a92940e7-3b39-4413-8c35-a369fbe43b57",
   "metadata": {},
   "outputs": [],
   "source": [
    "file.close()"
   ]
  },
  {
   "cell_type": "code",
   "execution_count": 11,
   "id": "7d7687d6-a2b5-45ce-814a-d0737f866ed4",
   "metadata": {},
   "outputs": [
    {
     "data": {
      "text/plain": [
       "<_io.TextIOWrapper name='file.txt' mode='w' encoding='UTF-8'>"
      ]
     },
     "execution_count": 11,
     "metadata": {},
     "output_type": "execute_result"
    }
   ],
   "source": [
    "#file attributes\n",
    "file"
   ]
  },
  {
   "cell_type": "code",
   "execution_count": 12,
   "id": "c003374d-95d3-43c0-8fe8-db771efb47ff",
   "metadata": {},
   "outputs": [
    {
     "data": {
      "text/plain": [
       "True"
      ]
     },
     "execution_count": 12,
     "metadata": {},
     "output_type": "execute_result"
    }
   ],
   "source": [
    "file.closed"
   ]
  },
  {
   "cell_type": "code",
   "execution_count": 13,
   "id": "d91f2f06-487c-413b-875a-39a2320893a5",
   "metadata": {},
   "outputs": [
    {
     "data": {
      "text/plain": [
       "'file.txt'"
      ]
     },
     "execution_count": 13,
     "metadata": {},
     "output_type": "execute_result"
    }
   ],
   "source": [
    "file.name"
   ]
  },
  {
   "cell_type": "code",
   "execution_count": 14,
   "id": "f6c7629e-01fb-42cc-9011-bb288568e12b",
   "metadata": {},
   "outputs": [
    {
     "data": {
      "text/plain": [
       "'w'"
      ]
     },
     "execution_count": 14,
     "metadata": {},
     "output_type": "execute_result"
    }
   ],
   "source": [
    "file.mode"
   ]
  },
  {
   "cell_type": "code",
   "execution_count": 16,
   "id": "a498a812-8510-4058-995e-e269e913c65f",
   "metadata": {},
   "outputs": [
    {
     "ename": "ValueError",
     "evalue": "I/O operation on closed file.",
     "output_type": "error",
     "traceback": [
      "\u001b[0;31m---------------------------------------------------------------------------\u001b[0m",
      "\u001b[0;31mValueError\u001b[0m                                Traceback (most recent call last)",
      "Cell \u001b[0;32mIn[16], line 1\u001b[0m\n\u001b[0;32m----> 1\u001b[0m \u001b[43mfile\u001b[49m\u001b[38;5;241;43m.\u001b[39;49m\u001b[43mwrite\u001b[49m\u001b[43m(\u001b[49m\u001b[38;5;124;43m\"\u001b[39;49m\u001b[38;5;124;43mThis is my second line\u001b[39;49m\u001b[38;5;124;43m\"\u001b[39;49m\u001b[43m)\u001b[49m \u001b[38;5;66;03m#tHis will not be executed\u001b[39;00m\n",
      "\u001b[0;31mValueError\u001b[0m: I/O operation on closed file."
     ]
    }
   ],
   "source": [
    "file.write(\"This is my second line\") #tHis will not be executed"
   ]
  },
  {
   "cell_type": "code",
   "execution_count": 21,
   "id": "1a070312-f1b1-470e-b538-805e1dd64ee7",
   "metadata": {},
   "outputs": [],
   "source": [
    "file = open(\"file.txt\", 'w')"
   ]
  },
  {
   "cell_type": "code",
   "execution_count": 22,
   "id": "ac3c2f8c-6920-4aaf-b2f6-06becc6bc6a6",
   "metadata": {},
   "outputs": [],
   "source": [
    "file.write(\"This is my second line\")\n",
    "file.close()"
   ]
  },
  {
   "cell_type": "code",
   "execution_count": 27,
   "id": "c7c0cccb-c493-456d-b222-d2eed5370321",
   "metadata": {},
   "outputs": [],
   "source": [
    "file = open(\"file.txt\", \"w\")\n",
    "file.write(\"This is my first line\\n\")\n",
    "file.write(\"This is my second line\\n\")\n",
    "file.write(\"This is my third line\\n\")\n",
    "file.write(\"This is my fourth line\\n\")\n",
    "file.close()"
   ]
  },
  {
   "cell_type": "code",
   "execution_count": 28,
   "id": "13b8eadf-e409-4406-bdce-bbd688a19b7f",
   "metadata": {},
   "outputs": [],
   "source": [
    "file = open(\"file.txt\", \"a\")\n",
    "file.write(\"This is my fifth line.\")\n",
    "file.close()"
   ]
  },
  {
   "cell_type": "code",
   "execution_count": 29,
   "id": "35099ff4-fff4-497b-8de3-6c3895845ad9",
   "metadata": {},
   "outputs": [],
   "source": [
    "file = open(\"file.txt\", \"r\")"
   ]
  },
  {
   "cell_type": "code",
   "execution_count": 32,
   "id": "52c0219a-f3ff-45a8-90f2-aa82aa5bcb3a",
   "metadata": {},
   "outputs": [
    {
     "ename": "UnsupportedOperation",
     "evalue": "not writable",
     "output_type": "error",
     "traceback": [
      "\u001b[0;31m---------------------------------------------------------------------------\u001b[0m",
      "\u001b[0;31mUnsupportedOperation\u001b[0m                      Traceback (most recent call last)",
      "Cell \u001b[0;32mIn[32], line 1\u001b[0m\n\u001b[0;32m----> 1\u001b[0m \u001b[43mfile\u001b[49m\u001b[38;5;241;43m.\u001b[39;49m\u001b[43mwrite\u001b[49m\u001b[43m(\u001b[49m\u001b[38;5;124;43m\"\u001b[39;49m\u001b[38;5;124;43mhello\u001b[39;49m\u001b[38;5;124;43m\"\u001b[39;49m\u001b[43m)\u001b[49m \u001b[38;5;66;03m#this will not be executed as it is opened in read mode\u001b[39;00m\n",
      "\u001b[0;31mUnsupportedOperation\u001b[0m: not writable"
     ]
    }
   ],
   "source": [
    "file.write(\"hello\") #this will not be executed as it is opened in read mode"
   ]
  },
  {
   "cell_type": "code",
   "execution_count": 33,
   "id": "fefcfdfd-20a5-4acc-9f1b-95b80a58b580",
   "metadata": {},
   "outputs": [
    {
     "name": "stdout",
     "output_type": "stream",
     "text": [
      "This is my first line\n",
      "\n",
      "This is my second line\n",
      "\n",
      "This is my third line\n",
      "\n",
      "This is my fourth line\n",
      "\n",
      "This is my fifth line.\n"
     ]
    }
   ],
   "source": [
    "for i in file:\n",
    "    print(i)"
   ]
  },
  {
   "cell_type": "code",
   "execution_count": 35,
   "id": "2fd47907-8893-42cf-bb9c-77ce86bf225b",
   "metadata": {},
   "outputs": [
    {
     "name": "stdout",
     "output_type": "stream",
     "text": [
      "\n"
     ]
    }
   ],
   "source": [
    "print(file.read()) #here the cursor or pointer is at last position"
   ]
  },
  {
   "cell_type": "code",
   "execution_count": 36,
   "id": "90708670-a9f9-4c86-85c8-6e53ebee925d",
   "metadata": {},
   "outputs": [
    {
     "data": {
      "text/plain": [
       "112"
      ]
     },
     "execution_count": 36,
     "metadata": {},
     "output_type": "execute_result"
    }
   ],
   "source": [
    "file.tell() #it tells the current position of the cursor"
   ]
  },
  {
   "cell_type": "code",
   "execution_count": 37,
   "id": "741ad5a2-8f66-42e4-a3fc-fbff5623e9c7",
   "metadata": {},
   "outputs": [
    {
     "data": {
      "text/plain": [
       "''"
      ]
     },
     "execution_count": 37,
     "metadata": {},
     "output_type": "execute_result"
    }
   ],
   "source": [
    "file.read()"
   ]
  },
  {
   "cell_type": "code",
   "execution_count": 38,
   "id": "68791eb3-a5bc-4ba0-933c-f9f0f9e7c937",
   "metadata": {},
   "outputs": [
    {
     "data": {
      "text/plain": [
       "0"
      ]
     },
     "execution_count": 38,
     "metadata": {},
     "output_type": "execute_result"
    }
   ],
   "source": [
    "file.seek(0)"
   ]
  },
  {
   "cell_type": "code",
   "execution_count": 42,
   "id": "1a4f782e-c49b-4a8d-985e-43e744fd8a78",
   "metadata": {},
   "outputs": [
    {
     "name": "stdout",
     "output_type": "stream",
     "text": [
      "This is my first line\n",
      "\n"
     ]
    }
   ],
   "source": [
    "f = open(\"file.txt\", 'r')\n",
    "print(f.readline())\n",
    "f.close()"
   ]
  },
  {
   "cell_type": "code",
   "execution_count": 43,
   "id": "814c0700-2c16-4b5b-a627-9a3e8908eb5c",
   "metadata": {},
   "outputs": [
    {
     "name": "stdout",
     "output_type": "stream",
     "text": [
      "This is my first line\n",
      "This is my second line\n",
      "This is my third line\n",
      "This is my fourth line\n",
      "This is my fifth line.\n"
     ]
    }
   ],
   "source": [
    "file = open(\"file.txt\", 'r')\n",
    "file.seek(0)\n",
    "print(file.read())\n",
    "file.close()\n"
   ]
  },
  {
   "cell_type": "code",
   "execution_count": 44,
   "id": "ea2f7b26-3d3c-428a-aeae-6eaf18f4bbc6",
   "metadata": {},
   "outputs": [
    {
     "name": "stdout",
     "output_type": "stream",
     "text": [
      "['This is my first line\\n', 'This is my second line\\n', 'This is my third line\\n', 'This is my fourth line\\n', 'This is my fifth line.']\n"
     ]
    }
   ],
   "source": [
    "f = open(\"file.txt\", 'r')\n",
    "print(f.readlines())\n",
    "f.close()"
   ]
  },
  {
   "cell_type": "code",
   "execution_count": 45,
   "id": "80ea0834-bf40-4ea8-9700-bb883905917d",
   "metadata": {},
   "outputs": [],
   "source": [
    "import os"
   ]
  },
  {
   "cell_type": "code",
   "execution_count": 46,
   "id": "8980f2d7-66de-41a3-8227-84d8cb1bdd09",
   "metadata": {},
   "outputs": [
    {
     "data": {
      "text/plain": [
       "'/home/jovyan/work'"
      ]
     },
     "execution_count": 46,
     "metadata": {},
     "output_type": "execute_result"
    }
   ],
   "source": [
    "pwd"
   ]
  },
  {
   "cell_type": "code",
   "execution_count": 47,
   "id": "1071eee9-0360-4321-a59e-f0f21ee3377f",
   "metadata": {},
   "outputs": [
    {
     "data": {
      "text/plain": [
       "'/home/jovyan/work'"
      ]
     },
     "execution_count": 47,
     "metadata": {},
     "output_type": "execute_result"
    }
   ],
   "source": [
    "os.getcwd()"
   ]
  },
  {
   "cell_type": "code",
   "execution_count": 48,
   "id": "6a570ed8-86c4-4555-a770-0c3e26a144d1",
   "metadata": {},
   "outputs": [
    {
     "name": "stdout",
     "output_type": "stream",
     "text": [
      "File_handling_reading_and_writing.ipynb  file.txt  README.md  sample-code.ipynb\n"
     ]
    }
   ],
   "source": [
    "ls"
   ]
  },
  {
   "cell_type": "code",
   "execution_count": 49,
   "id": "9ae5ef83-e9ca-473b-aeee-c6008bb31e13",
   "metadata": {},
   "outputs": [
    {
     "data": {
      "text/plain": [
       "112"
      ]
     },
     "execution_count": 49,
     "metadata": {},
     "output_type": "execute_result"
    }
   ],
   "source": [
    "os.path.getsize(\"file.txt\")"
   ]
  },
  {
   "cell_type": "code",
   "execution_count": 54,
   "id": "ce3446cc-3a59-446f-87b5-2c56308c2a79",
   "metadata": {},
   "outputs": [],
   "source": [
    "os.mkdir(\"test\")"
   ]
  },
  {
   "cell_type": "code",
   "execution_count": 55,
   "id": "7232724d-c812-4cec-9a83-fa79cc33f296",
   "metadata": {},
   "outputs": [],
   "source": [
    "os.mkdir(\"test/test1\")"
   ]
  },
  {
   "cell_type": "code",
   "execution_count": 56,
   "id": "43ed04fd-de84-4ce2-ad0d-2fe9db07e546",
   "metadata": {},
   "outputs": [],
   "source": [
    "os.makedirs(\"1/2/3/4\")"
   ]
  },
  {
   "cell_type": "code",
   "execution_count": 57,
   "id": "0fcba864-495c-4950-9a8f-bfed49b68bfc",
   "metadata": {},
   "outputs": [
    {
     "data": {
      "text/plain": [
       "['test',\n",
       " 'file.txt',\n",
       " '.ipynb_checkpoints',\n",
       " '1',\n",
       " 'sample-code.ipynb',\n",
       " '.git',\n",
       " 'File_handling_reading_and_writing.ipynb',\n",
       " 'README.md']"
      ]
     },
     "execution_count": 57,
     "metadata": {},
     "output_type": "execute_result"
    }
   ],
   "source": [
    "os.listdir()"
   ]
  },
  {
   "cell_type": "code",
   "execution_count": 58,
   "id": "b1bbb104-3586-46d5-aac2-342fa13c3cfe",
   "metadata": {},
   "outputs": [],
   "source": [
    "os.mkdir(\"feat\")"
   ]
  },
  {
   "cell_type": "code",
   "execution_count": 59,
   "id": "1e522f18-9dc2-4b09-bd50-c9969aa2fa8a",
   "metadata": {},
   "outputs": [],
   "source": [
    "os.rmdir(\"feat\")"
   ]
  },
  {
   "cell_type": "code",
   "execution_count": 60,
   "id": "4e3d1f85-d6f1-4ec8-8da8-e8e705936691",
   "metadata": {},
   "outputs": [
    {
     "ename": "OSError",
     "evalue": "[Errno 39] Directory not empty: 'test'",
     "output_type": "error",
     "traceback": [
      "\u001b[0;31m---------------------------------------------------------------------------\u001b[0m",
      "\u001b[0;31mOSError\u001b[0m                                   Traceback (most recent call last)",
      "Cell \u001b[0;32mIn[60], line 1\u001b[0m\n\u001b[0;32m----> 1\u001b[0m \u001b[43mos\u001b[49m\u001b[38;5;241;43m.\u001b[39;49m\u001b[43mrmdir\u001b[49m\u001b[43m(\u001b[49m\u001b[38;5;124;43m\"\u001b[39;49m\u001b[38;5;124;43mtest\u001b[39;49m\u001b[38;5;124;43m\"\u001b[39;49m\u001b[43m)\u001b[49m\n",
      "\u001b[0;31mOSError\u001b[0m: [Errno 39] Directory not empty: 'test'"
     ]
    }
   ],
   "source": [
    "os.rmdir(\"test\")"
   ]
  },
  {
   "cell_type": "code",
   "execution_count": 61,
   "id": "af16f56f-735b-4503-9ada-878bba89a872",
   "metadata": {},
   "outputs": [],
   "source": [
    "import shutil\n",
    "shutil.rmtree(\"1\")"
   ]
  },
  {
   "cell_type": "code",
   "execution_count": 62,
   "id": "2d484670-4dcf-432a-b833-e2855f86c8c7",
   "metadata": {},
   "outputs": [
    {
     "data": {
      "text/plain": [
       "'/home/jovyan/work'"
      ]
     },
     "execution_count": 62,
     "metadata": {},
     "output_type": "execute_result"
    }
   ],
   "source": [
    "os.getcwd()"
   ]
  },
  {
   "cell_type": "code",
   "execution_count": 64,
   "id": "ab0d6464-977d-48bb-9763-7632b43fde3b",
   "metadata": {},
   "outputs": [],
   "source": [
    "f = open(\"/home/jovyan/work/test/test1/file_test.txt\", \"w\")"
   ]
  },
  {
   "cell_type": "code",
   "execution_count": 65,
   "id": "826a38b8-0229-4597-af2f-dfeb9b378f02",
   "metadata": {},
   "outputs": [
    {
     "data": {
      "text/plain": [
       "'/home/jovyan/work/file_test.txt'"
      ]
     },
     "execution_count": 65,
     "metadata": {},
     "output_type": "execute_result"
    }
   ],
   "source": [
    "shutil.copy(\"/home/jovyan/work/test/test1/file_test.txt\", \"/home/jovyan/work\")"
   ]
  },
  {
   "cell_type": "code",
   "execution_count": 67,
   "id": "2d6fab40-07b7-4bb6-9a1f-f8bf99687cbf",
   "metadata": {},
   "outputs": [
    {
     "data": {
      "text/plain": [
       "'/home/jovyan/work/test_move/file_test.txt'"
      ]
     },
     "execution_count": 67,
     "metadata": {},
     "output_type": "execute_result"
    }
   ],
   "source": [
    "shutil.move(\"/home/jovyan/work/test/test1/file_test.txt\", \"/home/jovyan/work/test_move\")"
   ]
  },
  {
   "cell_type": "code",
   "execution_count": 66,
   "id": "cb140bd4-02a1-4719-8a06-58860f042034",
   "metadata": {},
   "outputs": [],
   "source": [
    "os.mkdir(\"test_move\")"
   ]
  },
  {
   "cell_type": "code",
   "execution_count": 69,
   "id": "9a2d29df-13e4-4c6e-99f9-801ec617d68c",
   "metadata": {},
   "outputs": [],
   "source": [
    "os.remove(\"file_test.txt\")"
   ]
  },
  {
   "cell_type": "code",
   "execution_count": 70,
   "id": "dbf6d80d-35e6-46e3-85eb-7a274ad317c1",
   "metadata": {},
   "outputs": [
    {
     "name": "stdout",
     "output_type": "stream",
     "text": [
      "This is my first line\n",
      "\n"
     ]
    }
   ],
   "source": [
    "with open(\"file.txt\", \"r\") as f:\n",
    "    line = f.readline()\n",
    "    print(line)"
   ]
  },
  {
   "cell_type": "code",
   "execution_count": null,
   "id": "f33128a1-ae25-4377-9e81-2a2fbca8db08",
   "metadata": {},
   "outputs": [],
   "source": []
  }
 ],
 "metadata": {
  "kernelspec": {
   "display_name": "Python 3 (ipykernel)",
   "language": "python",
   "name": "python3"
  },
  "language_info": {
   "codemirror_mode": {
    "name": "ipython",
    "version": 3
   },
   "file_extension": ".py",
   "mimetype": "text/x-python",
   "name": "python",
   "nbconvert_exporter": "python",
   "pygments_lexer": "ipython3",
   "version": "3.10.8"
  }
 },
 "nbformat": 4,
 "nbformat_minor": 5
}
