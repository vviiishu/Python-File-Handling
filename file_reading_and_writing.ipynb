{
 "cells": [
  {
   "cell_type": "code",
   "execution_count": 1,
   "id": "dd1f2640-1242-4d5e-8cd2-449b373f886c",
   "metadata": {},
   "outputs": [],
   "source": [
    "text_content = \"\"\"\n",
    "example 1\n",
    "example 2\n",
    "example 3\n",
    "\"\"\""
   ]
  },
  {
   "cell_type": "code",
   "execution_count": 2,
   "id": "6082d1cf-dcc2-40b0-9a23-9322b8ef9b5c",
   "metadata": {},
   "outputs": [],
   "source": [
    "with open(\"example.txt\", \"w\") as file:\n",
    "    file.write(text_content)"
   ]
  },
  {
   "cell_type": "code",
   "execution_count": 3,
   "id": "694b0300-ca71-4de0-b64b-92297e6d8c4d",
   "metadata": {},
   "outputs": [
    {
     "name": "stdout",
     "output_type": "stream",
     "text": [
      "\n",
      "example 1\n",
      "example 2\n",
      "example 3\n",
      "\n"
     ]
    }
   ],
   "source": [
    "with open(\"example.txt\", \"r\") as file:\n",
    "    data = file.read()\n",
    "    \n",
    "print(data)"
   ]
  },
  {
   "cell_type": "code",
   "execution_count": 4,
   "id": "27375e0f-9ec3-4e86-98e6-3d8234296b62",
   "metadata": {},
   "outputs": [],
   "source": [
    "#CSV>> comma separated values\n",
    "\n",
    "data = [[\"Name\", \"course\", \"Fee\"],\n",
    "       [\"Ajay\", \"DS\", \"1000\"],\n",
    "       [\"Bijay\", \"ML\", \"2000\"]]"
   ]
  },
  {
   "cell_type": "code",
   "execution_count": 5,
   "id": "629acdf3-a9f0-466a-b2f2-fe7c6b8aada3",
   "metadata": {},
   "outputs": [
    {
     "data": {
      "text/plain": [
       "[['Name', 'course', 'Fee'], ['Ajay', 'DS', '1000'], ['Bijay', 'ML', '2000']]"
      ]
     },
     "execution_count": 5,
     "metadata": {},
     "output_type": "execute_result"
    }
   ],
   "source": [
    "data"
   ]
  },
  {
   "cell_type": "code",
   "execution_count": 6,
   "id": "62c2f72b-c591-409c-8ac0-583c0681b6ab",
   "metadata": {},
   "outputs": [
    {
     "name": "stdout",
     "output_type": "stream",
     "text": [
      "['Name', 'course', 'Fee']\n",
      "['Ajay', 'DS', '1000']\n",
      "['Bijay', 'ML', '2000']\n"
     ]
    }
   ],
   "source": [
    "for i in data:\n",
    "    print(i)"
   ]
  },
  {
   "cell_type": "code",
   "execution_count": 8,
   "id": "8abe7806-7a7e-4904-99d8-a0161ff85752",
   "metadata": {},
   "outputs": [],
   "source": [
    "import csv\n",
    "\n",
    "with open(\"example_csv.csv\", \"w\") as f:\n",
    "    w = csv.writer(f)\n",
    "    for i in data:\n",
    "        w.writerow(i)"
   ]
  },
  {
   "cell_type": "code",
   "execution_count": 9,
   "id": "900d3075-e786-49af-a53b-803249d70be9",
   "metadata": {},
   "outputs": [
    {
     "name": "stdout",
     "output_type": "stream",
     "text": [
      "['Name', 'course', 'Fee']\n",
      "['Ajay', 'DS', '1000']\n",
      "['Bijay', 'ML', '2000']\n"
     ]
    }
   ],
   "source": [
    "with open(\"example_csv.csv\", \"r\") as f:\n",
    "    r = csv.reader(f)\n",
    "    for i in r:\n",
    "        print(i)"
   ]
  },
  {
   "cell_type": "code",
   "execution_count": 11,
   "id": "d9f78386-3bc4-4c48-aa51-4cd577a8c52a",
   "metadata": {},
   "outputs": [],
   "source": [
    "#Json >> javscript object notation \n",
    "data = {\"name\": \"Ajay\",\n",
    "       \"Course\": \"DA\",\n",
    "       \"fee\":  2900}"
   ]
  },
  {
   "cell_type": "code",
   "execution_count": 12,
   "id": "75ad224f-6807-481c-9950-3ab6ffcbd0e0",
   "metadata": {},
   "outputs": [
    {
     "data": {
      "text/plain": [
       "dict"
      ]
     },
     "execution_count": 12,
     "metadata": {},
     "output_type": "execute_result"
    }
   ],
   "source": [
    "type(data)"
   ]
  },
  {
   "cell_type": "code",
   "execution_count": 15,
   "id": "726b3f05-998f-4bad-a62b-1e8e5c71bcce",
   "metadata": {},
   "outputs": [],
   "source": [
    "import json\n",
    "with open(\"json2.json\", \"w\") as f:\n",
    "    json.dump(data, f)"
   ]
  },
  {
   "cell_type": "code",
   "execution_count": 16,
   "id": "5caa9cc2-55ba-41bf-b84b-24d03feb2ae6",
   "metadata": {},
   "outputs": [
    {
     "name": "stdout",
     "output_type": "stream",
     "text": [
      "{'name': 'Ajay', 'Course': 'DA', 'fee': 2900}\n"
     ]
    }
   ],
   "source": [
    "with open(\"json2.json\", \"r\") as f:\n",
    "    data = json.load(f)\n",
    "    \n",
    "print(data)"
   ]
  },
  {
   "cell_type": "code",
   "execution_count": 17,
   "id": "23dd17c8-f5ab-4752-a37f-34ff773d0df9",
   "metadata": {},
   "outputs": [],
   "source": [
    "with open(\"test_bin.bin\", \"wb\") as f:\n",
    "    f.write(b\"\\x48\\x65\\x6c\\x6c\\x6f\\x2c\\x20\\x57\\x6f\\x72\\x6c\\x64\\x21\")"
   ]
  },
  {
   "cell_type": "code",
   "execution_count": 18,
   "id": "b86fd295-58b0-4180-b665-fbf6894cf320",
   "metadata": {},
   "outputs": [
    {
     "name": "stdout",
     "output_type": "stream",
     "text": [
      "b'Hello, World!'\n"
     ]
    }
   ],
   "source": [
    "with open(\"test_bin.bin\", \"rb\") as f:\n",
    "    print(f.read())"
   ]
  },
  {
   "cell_type": "code",
   "execution_count": 19,
   "id": "3761beb6-9dcd-42bb-bc5e-5712ee8d59fa",
   "metadata": {},
   "outputs": [],
   "source": [
    "#Buffered reading>> it allows the program to read the data in chunks\n",
    "#BUFFERED writing"
   ]
  },
  {
   "cell_type": "code",
   "execution_count": 20,
   "id": "b5292291-da32-4390-a022-5e5a92c50409",
   "metadata": {},
   "outputs": [],
   "source": [
    "import io\n",
    "with open(\"test_buf.txt\", \"wb\") as f:\n",
    "    file = io.BufferedWriter(f)\n",
    "    file.write(b\"A computer is a machine that can be programmed to automatically carry out sequences of arithmetic or logical operations (computation). Modern digital electronic computers can perform generic sets of operations known as programs. These programs enable computers to perform a wide range of tasks. The term computer system may refer to a nominally complete computer that includes the hardware, operating system, software, and peripheral equipment needed and used for full operation; or to a group of computers that are linked and function together, such as a computer network or computer cluster.\")\n",
    "    file.write(b\"hello\")\n",
    "    file.write(b\"I am good\")\n",
    "    file.flush()"
   ]
  },
  {
   "cell_type": "code",
   "execution_count": 22,
   "id": "7885b10a-1c49-40e0-94a7-493d23d89297",
   "metadata": {},
   "outputs": [
    {
     "name": "stdout",
     "output_type": "stream",
     "text": [
      "b'A computer is a machine that can be programmed to automatically carry out sequences of arithmetic or'\n"
     ]
    }
   ],
   "source": [
    "with open(\"test_buf.txt\", \"rb\") as f:\n",
    "    file = io.BufferedReader(f)\n",
    "    data = file.read(100) #100 bytes\n",
    "    print(data)"
   ]
  },
  {
   "cell_type": "code",
   "execution_count": null,
   "id": "d11599b4-e07f-4e36-a914-c1d818f75335",
   "metadata": {},
   "outputs": [],
   "source": []
  }
 ],
 "metadata": {
  "kernelspec": {
   "display_name": "Python 3 (ipykernel)",
   "language": "python",
   "name": "python3"
  },
  "language_info": {
   "codemirror_mode": {
    "name": "ipython",
    "version": 3
   },
   "file_extension": ".py",
   "mimetype": "text/x-python",
   "name": "python",
   "nbconvert_exporter": "python",
   "pygments_lexer": "ipython3",
   "version": "3.10.8"
  }
 },
 "nbformat": 4,
 "nbformat_minor": 5
}
